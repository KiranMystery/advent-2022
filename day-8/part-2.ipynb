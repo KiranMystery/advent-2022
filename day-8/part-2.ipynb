{
 "cells": [
  {
   "cell_type": "code",
   "execution_count": 19,
   "metadata": {},
   "outputs": [],
   "source": [
    "import numpy as np\n",
    "import pprint"
   ]
  },
  {
   "cell_type": "code",
   "execution_count": 188,
   "metadata": {},
   "outputs": [
    {
     "data": {
      "text/plain": [
       "0"
      ]
     },
     "execution_count": 188,
     "metadata": {},
     "output_type": "execute_result"
    }
   ],
   "source": [
    "np.array([0]).max()\n"
   ]
  },
  {
   "cell_type": "code",
   "execution_count": 198,
   "metadata": {},
   "outputs": [
    {
     "name": "stdout",
     "output_type": "stream",
     "text": [
      "[0 5 5 3 5]\n",
      "[0]\n"
     ]
    }
   ],
   "source": [
    "test_x = [\n",
    "[3,0,0,0,3],\n",
    "[2,5,5,1,2],\n",
    "[6,5,3,3,2],\n",
    "[3,3,5,4,9],\n",
    "[3,5,3,9,0]]\n",
    "\n",
    "np_X=np.array(test_x)\n",
    "# print(np_X)\n",
    "\n",
    "print(np_X[:, 1])\n",
    "print(np_X[:, 1][:1])\n",
    "\n",
    "# print(np_X[:, 1][1+1:])\n",
    "# bottom_max=X[:, row_i][i+1:].max()\n",
    "                \n"
   ]
  },
  {
   "cell_type": "code",
   "execution_count": 186,
   "metadata": {},
   "outputs": [
    {
     "name": "stdout",
     "output_type": "stream",
     "text": [
      "0\n",
      "1\n",
      "2\n",
      "3\n",
      "4\n",
      "5\n",
      "6\n",
      "7\n",
      "8\n",
      "9\n",
      "10\n",
      "11\n",
      "12\n",
      "13\n",
      "14\n",
      "15\n",
      "16\n",
      "17\n",
      "18\n",
      "19\n",
      "20\n",
      "21\n",
      "22\n",
      "23\n",
      "24\n",
      "25\n",
      "26\n",
      "27\n",
      "28\n",
      "29\n",
      "30\n",
      "31\n",
      "32\n",
      "33\n",
      "34\n",
      "35\n",
      "36\n",
      "37\n",
      "38\n",
      "39\n",
      "40\n",
      "41\n",
      "42\n",
      "43\n",
      "44\n",
      "45\n",
      "46\n",
      "47\n",
      "48\n",
      "49\n",
      "50\n",
      "51\n",
      "52\n",
      "53\n",
      "54\n",
      "55\n",
      "56\n",
      "57\n",
      "58\n",
      "59\n",
      "60\n",
      "61\n",
      "62\n",
      "63\n",
      "64\n",
      "65\n",
      "66\n",
      "67\n",
      "68\n",
      "69\n",
      "70\n",
      "71\n",
      "72\n",
      "73\n",
      "74\n",
      "75\n",
      "76\n",
      "77\n",
      "78\n",
      "79\n",
      "80\n",
      "81\n",
      "82\n",
      "83\n",
      "84\n",
      "85\n",
      "86\n",
      "87\n",
      "88\n",
      "89\n",
      "90\n",
      "91\n",
      "92\n",
      "93\n",
      "94\n",
      "95\n",
      "96\n",
      "97\n",
      "98\n"
     ]
    },
    {
     "ename": "AttributeError",
     "evalue": "'list' object has no attribute 'max'",
     "output_type": "error",
     "traceback": [
      "\u001b[0;31m---------------------------------------------------------------------------\u001b[0m",
      "\u001b[0;31mAttributeError\u001b[0m                            Traceback (most recent call last)",
      "Cell \u001b[0;32mIn[186], line 6\u001b[0m\n\u001b[1;32m      3\u001b[0m \u001b[39mfor\u001b[39;00m i,x \u001b[39min\u001b[39;00m \u001b[39menumerate\u001b[39m(arr):\n\u001b[1;32m      4\u001b[0m     \u001b[39mprint\u001b[39m(i)\n\u001b[0;32m----> 6\u001b[0m [\u001b[39m0\u001b[39;49m]\u001b[39m.\u001b[39;49mmax()\n",
      "\u001b[0;31mAttributeError\u001b[0m: 'list' object has no attribute 'max'"
     ]
    }
   ],
   "source": [
    "input = [[int(l) for l in l.strip()] for l in open('file.in')]\n",
    "arr = np.array(input)\n",
    "for i,x in enumerate(arr):\n",
    "    print(i)\n",
    "    \n"
   ]
  },
  {
   "cell_type": "code",
   "execution_count": 33,
   "metadata": {},
   "outputs": [
    {
     "name": "stdout",
     "output_type": "stream",
     "text": [
      "0 0\n",
      "0\n",
      "0 1\n",
      "0\n",
      "0 2\n",
      "0\n",
      "0 3\n",
      "0\n",
      "0 4\n"
     ]
    },
    {
     "ename": "StopIteration",
     "evalue": "",
     "output_type": "error",
     "traceback": [
      "\u001b[0;31m---------------------------------------------------------------------------\u001b[0m",
      "\u001b[0;31mStopIteration\u001b[0m                             Traceback (most recent call last)",
      "Cell \u001b[0;32mIn[33], line 24\u001b[0m\n\u001b[1;32m     22\u001b[0m     L\u001b[39m=\u001b[39m\u001b[39m0\u001b[39m\n\u001b[1;32m     23\u001b[0m \u001b[39melse\u001b[39;00m:\n\u001b[0;32m---> 24\u001b[0m     L \u001b[39m=\u001b[39m \u001b[39mnext\u001b[39;49m(c[\u001b[39m0\u001b[39;49m] \u001b[39mfor\u001b[39;49;00m c \u001b[39min\u001b[39;49;00m \u001b[39menumerate\u001b[39;49m(left_max[::\u001b[39m-\u001b[39;49m\u001b[39m1\u001b[39;49m]) \u001b[39mif\u001b[39;49;00m c[\u001b[39m1\u001b[39;49m] \u001b[39m>\u001b[39;49m x) \u001b[39m+\u001b[39m \u001b[39m1\u001b[39m\n\u001b[1;32m     25\u001b[0m \u001b[39mif\u001b[39;00m \u001b[39mlen\u001b[39m(bottom_max)\u001b[39m==\u001b[39m\u001b[39m0\u001b[39m:\n\u001b[1;32m     26\u001b[0m     D\u001b[39m=\u001b[39m\u001b[39m0\u001b[39m\n",
      "\u001b[0;31mStopIteration\u001b[0m: "
     ]
    }
   ],
   "source": [
    "input = [[int(l) for l in l.strip()] for l in open('file.in')]\n",
    "\n",
    "X=np.array(input)\n",
    "\n",
    "l = len(X)\n",
    "visible_trees=4*(l-1)\n",
    "trees_processed = visible_trees\n",
    "SD = []\n",
    "print(\"outer trees:\", visible_trees)\n",
    "for row_i, row_x in enumerate(X):\n",
    "    # ignore first and last row\n",
    "    if row_i==0 or row_i==len(X)-1:\n",
    "        continue\n",
    "    else:\n",
    "        # ignore first and last column\n",
    "        for i, x in enumerate(row_x):\n",
    "            if i==0 or i==len(row_x)-1:\n",
    "                continue\n",
    "            else:\n",
    "                trees_processed += 1\n",
    "\n",
    "                left_max=row_x[:i]\n",
    "                right_max=row_x[i+1:]\n",
    "                top_max=X[:, i][:row_i]\n",
    "                bottom_max=X[:, i][row_i+1:]\n",
    "                \n",
    "                R = next(c[0] for c in enumerate(right_max) if c[1] > x) + 1\n",
    "                L = next(c[0] for c in enumerate(left_max[::-1]) if c[1] > x) + 1\n",
    "                \n",
    "                D = next(c[0] for c in enumerate(bottom_max) if c[1] > x) + 1\n",
    "                U = next(c[0] for c in enumerate(top_max[::-1]) if c[1] > x) + 1\n",
    "                \n",
    "                sd = R*L*D*U\n",
    "                SD.append(sd)\n",
    "\n",
    "# print(\"ending trees:\", visible_trees)\n",
    "print(\"trees processed:\", trees_processed)\n",
    "print(SD.max())"
   ]
  },
  {
   "cell_type": "code",
   "execution_count": 23,
   "metadata": {},
   "outputs": [
    {
     "data": {
      "text/plain": [
       "6"
      ]
     },
     "execution_count": 23,
     "metadata": {},
     "output_type": "execute_result"
    }
   ],
   "source": [
    "c = 3\n",
    "left =[4,2,2,2,2,0]\n",
    "right = [0, 0, 0, 0, 0, 4, 4, 2, 1]\n",
    "next(x[0] for x in enumerate(right) if x[1] > c) + 1\n",
    "next(x[0] for x in enumerate(left[::-1]) if x[1] > c) + 1\n",
    "# print(left[::-1])"
   ]
  },
  {
   "cell_type": "code",
   "execution_count": null,
   "metadata": {},
   "outputs": [],
   "source": []
  }
 ],
 "metadata": {
  "kernelspec": {
   "display_name": "Python 3.10.6 64-bit",
   "language": "python",
   "name": "python3"
  },
  "language_info": {
   "codemirror_mode": {
    "name": "ipython",
    "version": 3
   },
   "file_extension": ".py",
   "mimetype": "text/x-python",
   "name": "python",
   "nbconvert_exporter": "python",
   "pygments_lexer": "ipython3",
   "version": "3.10.6"
  },
  "orig_nbformat": 4,
  "vscode": {
   "interpreter": {
    "hash": "b0fa6594d8f4cbf19f97940f81e996739fb7646882a419484c72d19e05852a7e"
   }
  }
 },
 "nbformat": 4,
 "nbformat_minor": 2
}
