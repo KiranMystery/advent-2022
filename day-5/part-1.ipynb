{
 "cells": [
  {
   "cell_type": "code",
   "execution_count": 4,
   "metadata": {},
   "outputs": [],
   "source": [
    "X = [l.strip() for l in open('file.in')]"
   ]
  },
  {
   "cell_type": "code",
   "execution_count": 24,
   "metadata": {},
   "outputs": [],
   "source": [
    "'''\n",
    "    [S] [C]         [Z]            \n",
    "[F] [J] [P]         [T]     [N]    \n",
    "[G] [H] [G] [Q]     [G]     [D]    \n",
    "[V] [V] [D] [G] [F] [D]     [V]    \n",
    "[R] [B] [F] [N] [N] [Q] [L] [S]    \n",
    "[J] [M] [M] [P] [H] [V] [B] [B] [D]\n",
    "[L] [P] [H] [D] [L] [F] [D] [J] [L]\n",
    "[D] [T] [V] [M] [J] [N] [F] [M] [G]\n",
    " 1   2   3   4   5   6   7   8   9 \n",
    "'''\n",
    "\n",
    "\n"
   ]
  },
  {
   "cell_type": "code",
   "execution_count": 3,
   "metadata": {},
   "outputs": [
    {
     "name": "stdout",
     "output_type": "stream",
     "text": [
      "QMBMJDFTD"
     ]
    }
   ],
   "source": [
    "crates = [\n",
    "    ['F','G','V','R','J','L','D'],\n",
    "    ['S','J','H','V','B','M','P','T'],\n",
    "    ['C','P','G','D','F','M','H','V'],\n",
    "    ['Q','G','N','P','D','M'],\n",
    "    ['F','N','H','L','J'],\n",
    "    ['Z','T','G','D','Q','V','F','N'],\n",
    "    ['L','B','D','F'],\n",
    "    ['N','D','V','S','B','J','M'],\n",
    "    ['D','L','G']\n",
    "]\n",
    "\n",
    "for cmd in X:\n",
    "    cmd_split = cmd.split(' ')\n",
    "    x, a, b = int(cmd_split[1]), int(cmd_split[3]), int(cmd_split[5])\n",
    "    for i in range(x):  \n",
    "        crates[b-1].insert(0, crates[a-1].pop(0))\n",
    "    \n",
    "for stack in crates:\n",
    "    print(stack[0],end='')"
   ]
  },
  {
   "cell_type": "code",
   "execution_count": null,
   "metadata": {},
   "outputs": [],
   "source": []
  },
  {
   "cell_type": "code",
   "execution_count": null,
   "metadata": {},
   "outputs": [],
   "source": []
  },
  {
   "cell_type": "code",
   "execution_count": 16,
   "metadata": {},
   "outputs": [
    {
     "data": {
      "text/plain": [
       "['S', 'V', 'D', 'N']"
      ]
     },
     "execution_count": 16,
     "metadata": {},
     "output_type": "execute_result"
    }
   ],
   "source": [
    "list_a = ['N','D','V','S','B','J','M']\n",
    "list_b = []\n",
    "x = 4\n",
    "\n",
    "for i in range (x):\n",
    "    list_b.insert(0, list_a.pop(0))\n",
    "    \n",
    "list_b"
   ]
  }
 ],
 "metadata": {
  "kernelspec": {
   "display_name": "Python 3.10.6 64-bit",
   "language": "python",
   "name": "python3"
  },
  "language_info": {
   "codemirror_mode": {
    "name": "ipython",
    "version": 3
   },
   "file_extension": ".py",
   "mimetype": "text/x-python",
   "name": "python",
   "nbconvert_exporter": "python",
   "pygments_lexer": "ipython3",
   "version": "3.10.6"
  },
  "orig_nbformat": 4,
  "vscode": {
   "interpreter": {
    "hash": "b0fa6594d8f4cbf19f97940f81e996739fb7646882a419484c72d19e05852a7e"
   }
  }
 },
 "nbformat": 4,
 "nbformat_minor": 2
}
